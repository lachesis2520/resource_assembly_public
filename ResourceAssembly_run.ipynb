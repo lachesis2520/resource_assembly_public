{
 "cells": [
  {
   "cell_type": "code",
   "execution_count": null,
   "metadata": {},
   "outputs": [],
   "source": [
    "%run ResourceAssembly_func.ipynb"
   ]
  },
  {
   "cell_type": "markdown",
   "metadata": {},
   "source": [
    "# Simulations for Fig. 5b (originally done in separate runs for different conditions and were merged)"
   ]
  },
  {
   "cell_type": "code",
   "execution_count": null,
   "metadata": {},
   "outputs": [],
   "source": [
    "Ss = [3,5,7,10,12];\n",
    "Rs= [1,3,5,10,20,30,50,75,100];\n",
    "survs={};\n",
    "growths={};\n",
    "\n",
    "assumptions=a_default.copy() #Start with default parameters\n",
    "assumptions['sampling']='Shuffle'; # parameter distribution: discrete uniform\n",
    "assumptions['l'] = 0; assumptions['p_cf']=0; # no cross-feeding\n",
    "assumptions['R0_food']=10; # resource concentration scale\n",
    "assumptions['tau']=50; # 1/dilution rate scale\n",
    "assumptions['regulation']='independent'; #\n",
    "assumptions['response']='type I';\n",
    "assumptions['norm']=0;\n",
    "for i in np.arange(len(Ss)):\n",
    "    for j in np.arange(len(Rs)):\n",
    "        S = Ss[i]; R = Rs[j]; pairs = list(itertools.combinations(np.arange(S), 2)); npair = len(pairs);\n",
    "        survs[(S,R)]= np.zeros( (assumptions['n_wells'], npair+1, S) ) ;\n",
    "        growths[(S,R)]= np.zeros( (assumptions['n_wells'], S, R) ) ;\n",
    "        assumptions['S']=S;\n",
    "        assumptions['MA']=1*np.ones(R);\n",
    "        #assumptions['R0_food']=np.ones(assumptions['n_wells']);\n",
    "        #assumptions['M']=1;\n",
    "        assumptions['SA']=assumptions['S']*assumptions['n_wells']*np.ones(1);\n",
    "        for k in np.arange(10):\n",
    "            init_state = MakeInitialState(assumptions)\n",
    "            def dNdt(N,R,params):\n",
    "                return MakeConsumerDynamics(assumptions)(N,R,params)\n",
    "            def dRdt(N,R,params):\n",
    "                return MakeResourceDynamics(assumptions)(N,R,params)\n",
    "            dynamics = [dNdt,dRdt]\n",
    "\n",
    "            #Make parameters\n",
    "            params = MakeParams(assumptions);\n",
    "            params['m']=1/assumptions['tau'];\n",
    "            #dumi = np.random.uniform(0.1,1,size=R); dumi=dumi/np.sum(dumi);\n",
    "            ## for cross-feeding: supply only the most complex resource.\n",
    "            dumi = np.zeros(R); dumi[R-1]=1;\n",
    "            params['R0'] = assumptions['R0_food']*dumi;\n",
    "            surv, growth = BottomUp(init_state, dynamics, params)\n",
    "            ## use BottomUp_propagate for LLM\n",
    "            if(k==0):\n",
    "                survs[(S,R)] = surv;\n",
    "                growths[(S,R)] = growth;\n",
    "            else:\n",
    "                survs[(S,R)] =np.concatenate( [survs[(S,R)], surv], axis=0 )\n",
    "                growths[(S,R)] =np.concatenate( [growths[(S,R)], growth], axis=0 )\n",
    "            save_obj(survs, 'survs_test')\n",
    "            save_obj(growths, 'growths_test')"
   ]
  },
  {
   "cell_type": "code",
   "execution_count": null,
   "metadata": {},
   "outputs": [],
   "source": []
  },
  {
   "cell_type": "markdown",
   "metadata": {},
   "source": [
    "## Bistable simulation"
   ]
  },
  {
   "cell_type": "code",
   "execution_count": null,
   "metadata": {},
   "outputs": [],
   "source": [
    "S=3; R=3; nsim = 5000;\n",
    "\n",
    "survs = np.zeros((nsim, 10, 3));\n",
    "growths = np.zeros((nsim, 3, 3));\n",
    "invyields = np.zeros((nsim, 3, 3));\n",
    "d=0.02;\n",
    "\n",
    "for k in tqdm(np.arange(nsim)):\n",
    "    R = np.random.random(size=(3,3)); R = R/np.sum(R)*9;\n",
    "    A = np.random.random(size=(3,3)); A = A/np.sum(A)*9;\n",
    "    RA = R*A;\n",
    "    survs[k] = BottomUp_b(d, R, RA, c0=[1,1,1], tmax=100000, nstep=100000);\n",
    "    growths[k] = R;\n",
    "    invyields[k] = A;"
   ]
  },
  {
   "cell_type": "code",
   "execution_count": null,
   "metadata": {},
   "outputs": [],
   "source": [
    "save_obj(survs, '220815_survs_bistable')\n",
    "save_obj(growths, '220815_growths_bistable')\n",
    "save_obj(invyields, '220815_invyields_bistable')"
   ]
  }
 ],
 "metadata": {
  "kernelspec": {
   "display_name": "Python 3 (ipykernel)",
   "language": "python",
   "name": "python3"
  },
  "language_info": {
   "codemirror_mode": {
    "name": "ipython",
    "version": 3
   },
   "file_extension": ".py",
   "mimetype": "text/x-python",
   "name": "python",
   "nbconvert_exporter": "python",
   "pygments_lexer": "ipython3",
   "version": "3.9.13"
  }
 },
 "nbformat": 4,
 "nbformat_minor": 2
}
